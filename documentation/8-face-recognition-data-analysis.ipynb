{
 "cells": [
  {
   "cell_type": "markdown",
   "source": [
    "## Face Recognition Data Analysis\n",
    "\n",
    "This part of the documentation will investigate how precise filters can prevent the face recognition. The images, which were used during this section, stem from the Labeled Faces in the Wild (LFW) dataset. The dataset contains more than 13,000 images of 5,749 people. In this section, we only consider pairs of two images containing the same person, resulting in 1100 final images. Without any modifications, the algorithm recognizes 918/1100 faces.\n",
    "\n",
    "### Result\n",
    "\n",
    "We only tested our most promising filters which should prevent face recognition without altering the image too much. The result is shown in the bar chart below:\n",
    "\n",
    "![Result of Face Recognition Analysis](images/FaceRecognitionAnalysis.png)\n",
    "\n",
    "The diagram shows that many of the filters achieve good results.\n",
    "The Salt&Pepper and Cowface filters are probably so good because they prevent face detection. The Medicine Mask filter hides the lower keypoints, which is why it's so good. It is also noticeable that the keypoints of the eyes are very important for face recognition, as Morph Eyes is significantly better than Morph Mouth. "
   ],
   "metadata": {
    "collapsed": false
   },
   "id": "136adbcc6ce84f38"
  }
 ],
 "metadata": {
  "kernelspec": {
   "display_name": "Python 3",
   "language": "python",
   "name": "python3"
  },
  "language_info": {
   "codemirror_mode": {
    "name": "ipython",
    "version": 2
   },
   "file_extension": ".py",
   "mimetype": "text/x-python",
   "name": "python",
   "nbconvert_exporter": "python",
   "pygments_lexer": "ipython2",
   "version": "2.7.6"
  }
 },
 "nbformat": 4,
 "nbformat_minor": 5
}
