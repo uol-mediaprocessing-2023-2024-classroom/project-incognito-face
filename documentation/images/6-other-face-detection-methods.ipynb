{
 "cells": [
  {
   "cell_type": "markdown",
   "source": [
    "## Other Face Detection Methods\n",
    "\n",
    "TODO: Include CNN, MTCNN and SSD with a short explanation and a Practical introduction"
   ],
   "metadata": {
    "collapsed": false
   },
   "id": "26da98025dc0c91d"
  }
 ],
 "metadata": {
  "kernelspec": {
   "display_name": "Python 3",
   "language": "python",
   "name": "python3"
  },
  "language_info": {
   "codemirror_mode": {
    "name": "ipython",
    "version": 2
   },
   "file_extension": ".py",
   "mimetype": "text/x-python",
   "name": "python",
   "nbconvert_exporter": "python",
   "pygments_lexer": "ipython2",
   "version": "2.7.6"
  }
 },
 "nbformat": 4,
 "nbformat_minor": 5
}
