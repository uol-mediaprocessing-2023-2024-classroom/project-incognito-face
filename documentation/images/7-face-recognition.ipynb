{
 "cells": [
  {
   "cell_type": "markdown",
   "source": [
    "## Face Recognition\n",
    "\n",
    "TODO: Erklären, was face recognition ist\n",
    "\n",
    "TODO: Erklären, dass wir die lib: face-recognition nutzen und warum (mit Link)\n",
    "Warum? - da das den Umgang mit dem der dlib model leichter macht und wird uns nicht ums importieren kümmern müssen\n",
    "1.(calculate face keypoints / small model = 5 keypoints (nose + eyes) / big model = 68 keypoints (eyes, nose, mouth, chin) - we use this)\n",
    "2.(pretrained model for face encodings which returns a 128D vector)\n",
    "http://dlib.net/files/dlib_face_recognition_resnet_model_v1.dat.bz2 - das Model, dass für den 128D vector benutzt wird\n",
    "http://dlib.net/face_recognition.py.html - hier eine kurze Erklärung, wie das intern funktioniert\n",
    "\n",
    "TODO: Erklären, was man da einstellen kann und was wir benutzen und warum"
   ],
   "metadata": {
    "collapsed": false
   },
   "id": "49513190f916b10b"
  },
  {
   "cell_type": "markdown",
   "source": [
    "## Practical Application\n",
    "\n",
    "Our python implementation for the face recognition is using the following Code in the backend:"
   ],
   "metadata": {
    "collapsed": false
   },
   "id": "3f1ca47fbdfa263d"
  },
  {
   "cell_type": "code",
   "execution_count": null,
   "outputs": [],
   "source": [
    "# TODO: Code"
   ],
   "metadata": {
    "collapsed": false
   },
   "id": "289054ec09491e9"
  },
  {
   "cell_type": "markdown",
   "source": [
    "TODO: Erklärung des Codes (a lot)"
   ],
   "metadata": {
    "collapsed": false
   },
   "id": "e402ba0cabf69b2a"
  }
 ],
 "metadata": {
  "kernelspec": {
   "display_name": "Python 3",
   "language": "python",
   "name": "python3"
  },
  "language_info": {
   "codemirror_mode": {
    "name": "ipython",
    "version": 2
   },
   "file_extension": ".py",
   "mimetype": "text/x-python",
   "name": "python",
   "nbconvert_exporter": "python",
   "pygments_lexer": "ipython2",
   "version": "2.7.6"
  }
 },
 "nbformat": 4,
 "nbformat_minor": 5
}
