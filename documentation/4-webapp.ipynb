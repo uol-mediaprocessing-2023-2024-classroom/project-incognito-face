{
 "cells": [
  {
   "cell_type": "markdown",
   "metadata": {},
   "source": [
    "# The Webapp\n",
    "We based our project on the provided demo applications. The app is split into a seperate frontend and backend component.\n",
    "The frontend is implemented using Vue and the Vuetify framework."
   ]
  },
  {
   "cell_type": "markdown",
   "metadata": {},
   "source": [
    "## Frontend\n",
    "The frontend can be run by installing node and the required dependencies `npm install` afterwards the application is compiled and started through `npm run serve`\n",
    "\n"
   ]
  },
  {
   "cell_type": "markdown",
   "metadata": {},
   "source": [
    "## Backend\n",
    "The frontend can be run by installing node and the required dependencies `pip install -r .\\requirements.txt` afterwards the application is started through `uvicorn app.main:app --reload`\n",
    "\n",
    "When the client clicks the \"load images\" button, the backend returns a JSON array of all images in the `/images/` folder."
   ]
  }
 ],
 "metadata": {
  "language_info": {
   "name": "python"
  }
 },
 "nbformat": 4,
 "nbformat_minor": 2
}
