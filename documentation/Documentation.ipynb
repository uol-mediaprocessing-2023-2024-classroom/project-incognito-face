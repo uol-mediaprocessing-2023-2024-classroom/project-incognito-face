{
 "cells": [
  {
   "cell_type": "markdown",
   "source": [
    "# Einleitung\n",
    "In der allgemeinen Einleitung sollte die Zielsetzung und das Vorgehen für das Projekt klar werden. Da in den Präsentationen stark danach gefragt wurde, würde ich das Ziel in irgendeiner Art hervorheben (Formatierung, Bold, etc.). Weiterhin sollte klar werden, dass sich bei uns alles in einen FD und einen FR Teil spaltet."
   ],
   "metadata": {
    "collapsed": false
   },
   "id": "27876baf936b6237"
  },
  {
   "cell_type": "markdown",
   "source": [
    "# Face Detection\n",
    "Einleitung (hier muss erwähnt werden was das Ziel dieser Sektion ist und was wir bei jedem Filter in der Untersektion machen). Es sollte in der Einleitung ebenfalls auf die verschiedenen KI-Verfahren eingegangen werden, die wir am Ende im Prototypen benutzen. Da wir Bilder von den Filtern zeigen, denke ich, dass die Methoden nicht ausführbar sein müssen. \n",
    "\n",
    "## Face Detection Algorithms\n",
    "\n",
    "### Viola Jones\n",
    "Mergen der existierenden Sachen\n",
    "### HOG and SVM\n",
    "Mergen der existierenden Sachen\n",
    "### MTCNN and SSD\n",
    "Mergen der existierenden Sachen\n",
    "\n",
    "## Filter\n",
    "Hier müssen wir auf das Testen der Effizienz mit dem Datensatz eingehen, damit wir das nicht immer hinschreiben müssen.\n",
    "### Example Filter\n",
    "Idealerweise erst die Methodenbeschreibung aus Implemented Modifications, dann das Bild (falls es existiert, vllt. müssen wir hier noch Bilder für die anderen Filter machen, damit es einheitlich ist.) aus Data Modification, dann die Auswertung der Effizienz mit dem Datensatz."
   ],
   "metadata": {
    "collapsed": false
   },
   "id": "2b987aa77980afc1"
  },
  {
   "cell_type": "markdown",
   "source": [
    "# Face Recognition\n",
    "Einleitung (hier muss erwähnt werden was das Ziel dieser Sektion ist und was wir bei jedem Filter in der Untersektion machen. Es sollte hier ebenfalls auf das Verfahren eingegangen werden, was wir für FR benutzen. Da wir Bilder von den Filtern zeigen, denke ich, dass die Methoden nicht ausführbar sein müssen.\n",
    "\n",
    "## Filter\n",
    "Hier müssen wir auf das Testen der Effizienz mit dem Datensatz eingehen, damit wir das nicht immer hinschreiben müssen.\n",
    "## Example Filter\n",
    "Idealerweise erst die Methodenbeschreibung aus Implemented Modifications, dann das Bild (falls es existiert, vllt. müssen wir hier noch Bilder für die anderen Filter machen, damit es einheitlich ist.) aus Data Modification, dann die Auswertung der Effizienz mit dem Datensatz. Wichtig ist hier, dass Filter, die in Face Detection beschrieben wurden, nicht nochmal beschrieben werden (würde dann einfach sowas Schreiben der im FD-Teil beschriebene Filter kann ebenfalls für FR benutzt werden und das dann einfach verlinken)\n"
   ],
   "metadata": {
    "collapsed": false
   },
   "id": "6c88b71ad55f88d4"
  },
  {
   "cell_type": "markdown",
   "source": [
    "# Web Interface\n",
    "\n",
    "Hier sollte sowohl die Benutzung des FD und FR Teils in einem kurzen Video vorgestellt werden. Ich finde Aneinandereihungen von Bildern unübersichtlicher als ein kurzes Video, aber darüber können wir diskutieren.\n",
    "\n",
    "## Face Detection\n",
    "Video\n",
    "\n",
    "## Face Recognition\n",
    "Video"
   ],
   "metadata": {
    "collapsed": false
   },
   "id": "3fcf513525f2d0e3"
  }
 ],
 "metadata": {
  "kernelspec": {
   "display_name": "Python 3",
   "language": "python",
   "name": "python3"
  },
  "language_info": {
   "codemirror_mode": {
    "name": "ipython",
    "version": 2
   },
   "file_extension": ".py",
   "mimetype": "text/x-python",
   "name": "python",
   "nbconvert_exporter": "python",
   "pygments_lexer": "ipython2",
   "version": "2.7.6"
  }
 },
 "nbformat": 4,
 "nbformat_minor": 5
}
