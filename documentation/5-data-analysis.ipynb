{
 "cells": [
  {
   "cell_type": "markdown",
   "metadata": {},
   "source": [
    "# Data Analysis\n",
    "\n",
    "In order to test an SVM with HOG features in practice, we decide to use the LFW dataset that is built-in sklearn. To start, we imported the dataset:"
   ]
  },
  {
   "cell_type": "code",
   "execution_count": null,
   "outputs": [],
   "source": [
    "from typing import Callable\n",
    "\n",
    "import cv2\n",
    "import numpy as np\n",
    "import dlib\n",
    "from PIL import Image, ImageFilter\n",
    "from sklearn import datasets\n",
    "from matplotlib import pyplot as plt\n",
    "import sys\n",
    "sys.path.append('../test/')\n",
    "import ImageModification as imod\n",
    "\n",
    "def get_faces():\n",
    "    return datasets.fetch_lfw_people(color=True, min_faces_per_person=100, resize=1)"
   ],
   "metadata": {
    "collapsed": false
   }
  },
  {
   "cell_type": "markdown",
   "source": [
    "Afterwards, we created the function `count_detected_faces_hog` that counts the number of faces that the SVM classifier with HOG features from dlib detected. The parameter `image_mod_fn` is a function that modifies the image before it is fed to the SVM classifier."
   ],
   "metadata": {
    "collapsed": false
   }
  },
  {
   "cell_type": "code",
   "execution_count": null,
   "outputs": [],
   "source": [
    "def count_detected_faces_hog(image_mod_fn: Callable[[np.ndarray], np.ndarray]):\n",
    "    faces = get_faces()\n",
    "    detector = dlib.get_frontal_face_detector()\n",
    "    counter_faces = 0\n",
    "\n",
    "    for possibleFace in faces.images:\n",
    "        scaled_rgb_image = (possibleFace * 255).astype(np.uint8)\n",
    "\n",
    "        modifiedImage = image_mod_fn(scaled_rgb_image)\n",
    "\n",
    "        detected_faces = detector(modifiedImage)\n",
    "\n",
    "        if len(detected_faces) > 0:\n",
    "            counter_faces += 1\n",
    "\n",
    "    return float(counter_faces) / float(len(faces.images))"
   ],
   "metadata": {
    "collapsed": false
   }
  },
  {
   "cell_type": "markdown",
   "source": [
    "Then we used several modifications and plotted the success rate of detecting the faces in 1288 images:"
   ],
   "metadata": {
    "collapsed": false
   }
  },
  {
   "cell_type": "code",
   "execution_count": null,
   "outputs": [],
   "source": [
    "def image_modification_plot(count_detected_faces: Callable[[Callable[[np.ndarray], np.ndarray]], float], title: str):\n",
    "    categories = [\"Unmodified\", \"Blur\", \"Rotate 20°\", \"Rotate 90°\", \"Flip Horizontally\", \"Change to Grayscale\"]\n",
    "    values = [count_detected_faces(imod.identity), count_detected_faces(imod.apply_blur),\n",
    "              count_detected_faces(imod.create_rotate_image(20)),\n",
    "              count_detected_faces(imod.create_rotate_image(90)), count_detected_faces(imod.flip_image_horizontally),\n",
    "              count_detected_faces(imod.change_to_grayscale)]\n",
    "\n",
    "    # Create bar chart\n",
    "    plt.figure(figsize=(8, 6))\n",
    "    plt.bar(categories, values, color='skyblue')\n",
    "    plt.ylim(0, 1.0)\n",
    "\n",
    "    # Title and labels\n",
    "    plt.title(title)\n",
    "    plt.xlabel('Modification Operations')\n",
    "    plt.ylabel('Proportion detected')\n",
    "\n",
    "    # Show plot\n",
    "    plt.xticks(rotation=45)  # Rotate x-axis labels for better visibility\n",
    "    plt.tight_layout()\n",
    "    plt.show()\n",
    "    \n",
    "image_modification_plot(count_detected_faces_hog, \"HOG modifications\")"
   ],
   "metadata": {
    "collapsed": false
   }
  },
  {
   "cell_type": "markdown",
   "source": [
    "The bar chart shows that HOG is not susceptible to a horizontal flip, a conversion to grayscale, and a small rotation, but it is susceptible to blur and a 90° rotation."
   ],
   "metadata": {
    "collapsed": false
   }
  }
 ],
 "metadata": {
  "language_info": {
   "name": "python"
  }
 },
 "nbformat": 4,
 "nbformat_minor": 2
}
